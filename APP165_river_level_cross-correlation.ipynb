{
 "cells": [
  {
   "cell_type": "code",
   "execution_count": 1,
   "metadata": {},
   "outputs": [],
   "source": [
    "import numpy as np\n",
    "import pandas as pd\n",
    "import datetime\n",
    "import matplotlib.pyplot as plt\n",
    "import seaborn as sns\n",
    "\n",
    "%matplotlib inline\n",
    "sns.set()"
   ]
  },
  {
   "cell_type": "code",
   "execution_count": 2,
   "metadata": {},
   "outputs": [],
   "source": [
    "# Read APP and river level csv files\n",
    "APP165 = pd.read_csv('APP0165.csv', delimiter = ',')\n",
    "river = pd.read_csv('river_level.csv', delimiter = ',')"
   ]
  },
  {
   "cell_type": "code",
   "execution_count": 3,
   "metadata": {},
   "outputs": [],
   "source": [
    "# Combine the date and time columns in APP165\n",
    "APP165.insert(2, 'date_time', APP165['date'] + ' ' + APP165['time'])"
   ]
  },
  {
   "cell_type": "code",
   "execution_count": 4,
   "metadata": {},
   "outputs": [],
   "source": [
    "# Make Python recognize the date_time column as a datetime object in APP165\n",
    "APP165['date_time']=pd.to_datetime(APP165['date_time'], format = '%d/%m/%Y %I:%M:%S %p')"
   ]
  },
  {
   "cell_type": "code",
   "execution_count": 5,
   "metadata": {},
   "outputs": [],
   "source": [
    "# Remove date and time columns in APP165\n",
    "APP165_1 = APP165.drop([\"date\", \"time\"], axis=1)"
   ]
  },
  {
   "cell_type": "code",
   "execution_count": 6,
   "metadata": {},
   "outputs": [],
   "source": [
    "# Make Python recognize the date_time column as a datetime object in river\n",
    "river['date_time']=pd.to_datetime(river['date_time'], format = '%d/%m/%Y %H:%M:%S')"
   ]
  },
  {
   "cell_type": "code",
   "execution_count": 7,
   "metadata": {},
   "outputs": [],
   "source": [
    "# Merge APP and river data based on date_time\n",
    "df = APP165_1.merge(river, how = 'outer', left_on = 'date_time', right_on = 'date_time', suffixes = ('_GW', '_river'))"
   ]
  },
  {
   "cell_type": "code",
   "execution_count": 8,
   "metadata": {},
   "outputs": [],
   "source": [
    "# Remove rows that have 'NaN'\n",
    "df2 = df.dropna()"
   ]
  },
  {
   "cell_type": "code",
   "execution_count": 9,
   "metadata": {},
   "outputs": [],
   "source": [
    "# Separating individual columns\n",
    "GWL = df2.drop(['date_time', 'temp', 'level_river'], axis=1)\n",
    "River_level = df2.drop(['date_time', 'temp', 'level_GW'], axis=1)\n",
    "Temp = df2.drop(['date_time', 'level_river', 'level_GW'], axis=1)\n",
    "Date_time = df2.drop(['temp', 'level_river', 'level_GW'], axis=1)"
   ]
  },
  {
   "cell_type": "code",
   "execution_count": 10,
   "metadata": {},
   "outputs": [],
   "source": [
    "# Exporting dataframe to csv\n",
    "GWL.to_csv(r'C:\\Users\\setiawai\\OneDrive - Lincoln University\\PhD\\Data\\APP_dataset\\APP165_trial\\GWL.csv')\n",
    "River_level.to_csv(r'C:\\Users\\setiawai\\OneDrive - Lincoln University\\PhD\\Data\\APP_dataset\\APP165_trial\\River_level.csv')\n",
    "Temp.to_csv(r'C:\\Users\\setiawai\\OneDrive - Lincoln University\\PhD\\Data\\APP_dataset\\APP165_trial\\Temp.csv')"
   ]
  },
  {
   "cell_type": "code",
   "execution_count": 11,
   "metadata": {},
   "outputs": [],
   "source": [
    "# Define variables for cross-correlation\n",
    "GWL_a = np.genfromtxt('GWL.csv', delimiter = ',', skip_header = 1)\n",
    "RL_a = np.genfromtxt('River_level2.csv', delimiter = ',', skip_header = 1)\n",
    "Temp_a = np.genfromtxt('Temp.csv', delimiter = ',', skip_header = 1)"
   ]
  },
  {
   "cell_type": "code",
   "execution_count": 12,
   "metadata": {},
   "outputs": [],
   "source": [
    "# Define lag time; N = number of points; each number of points differ by 30 min\n",
    "N = 18911\n",
    "lags = np.arange(- N + 1, N)\n",
    "\n",
    "x = np.linspace(0, 18911, N) # Generates 18911 evenly spaced numbers between 0 and 18911\n",
    "\n",
    "# Cross covariance function for GWL and river level\n",
    "ccov = np.correlate(GWL_a - GWL_a.mean(), RL_a - RL_a.mean(), mode = 'full')\n",
    "ccor = ccov / (N * GWL_a.std() * RL_a.std())"
   ]
  },
  {
   "cell_type": "code",
   "execution_count": 25,
   "metadata": {},
   "outputs": [
    {
     "data": {
      "text/html": [
       "<div>\n",
       "<style scoped>\n",
       "    .dataframe tbody tr th:only-of-type {\n",
       "        vertical-align: middle;\n",
       "    }\n",
       "\n",
       "    .dataframe tbody tr th {\n",
       "        vertical-align: top;\n",
       "    }\n",
       "\n",
       "    .dataframe thead th {\n",
       "        text-align: right;\n",
       "    }\n",
       "</style>\n",
       "<table border=\"1\" class=\"dataframe\">\n",
       "  <thead>\n",
       "    <tr style=\"text-align: right;\">\n",
       "      <th></th>\n",
       "      <th>date_time</th>\n",
       "      <th>level_GW</th>\n",
       "      <th>temp</th>\n",
       "      <th>level_river</th>\n",
       "    </tr>\n",
       "  </thead>\n",
       "  <tbody>\n",
       "    <tr>\n",
       "      <th>2</th>\n",
       "      <td>2016-09-19 14:30:00</td>\n",
       "      <td>0.7237</td>\n",
       "      <td>12.134</td>\n",
       "      <td>-0.151</td>\n",
       "    </tr>\n",
       "    <tr>\n",
       "      <th>5</th>\n",
       "      <td>2016-09-19 15:00:00</td>\n",
       "      <td>0.7422</td>\n",
       "      <td>12.041</td>\n",
       "      <td>-0.177</td>\n",
       "    </tr>\n",
       "    <tr>\n",
       "      <th>8</th>\n",
       "      <td>2016-09-19 15:30:00</td>\n",
       "      <td>0.7578</td>\n",
       "      <td>12.012</td>\n",
       "      <td>-0.169</td>\n",
       "    </tr>\n",
       "    <tr>\n",
       "      <th>11</th>\n",
       "      <td>2016-09-19 16:00:00</td>\n",
       "      <td>0.7558</td>\n",
       "      <td>12.093</td>\n",
       "      <td>-0.048</td>\n",
       "    </tr>\n",
       "    <tr>\n",
       "      <th>14</th>\n",
       "      <td>2016-09-19 16:30:00</td>\n",
       "      <td>0.7396</td>\n",
       "      <td>12.169</td>\n",
       "      <td>0.116</td>\n",
       "    </tr>\n",
       "  </tbody>\n",
       "</table>\n",
       "</div>"
      ],
      "text/plain": [
       "             date_time  level_GW    temp  level_river\n",
       "2  2016-09-19 14:30:00    0.7237  12.134       -0.151\n",
       "5  2016-09-19 15:00:00    0.7422  12.041       -0.177\n",
       "8  2016-09-19 15:30:00    0.7578  12.012       -0.169\n",
       "11 2016-09-19 16:00:00    0.7558  12.093       -0.048\n",
       "14 2016-09-19 16:30:00    0.7396  12.169        0.116"
      ]
     },
     "execution_count": 25,
     "metadata": {},
     "output_type": "execute_result"
    }
   ],
   "source": [
    "df2.head()"
   ]
  },
  {
   "cell_type": "code",
   "execution_count": 21,
   "metadata": {},
   "outputs": [
    {
     "data": {
      "text/plain": [
       "(-100, 100)"
      ]
     },
     "execution_count": 21,
     "metadata": {},
     "output_type": "execute_result"
    },
    {
     "data": {
      "image/png": "[encoded data removed]",
      "text/plain": [
       "<Figure size 432x288 with 2 Axes>"
      ]
     },
     "metadata": {
      "needs_background": "light"
     },
     "output_type": "display_data"
    }
   ],
   "source": [
    "# plotting graph\n",
    "fig, axs = plt.subplots(2) # Number of subplots is 2\n",
    "fig.subplots_adjust(hspace = 0.4) # hspace is the amount of height reserved for space between subplots, expressed as a fraction of the average axis height\n",
    "\n",
    "ax = axs[0] # First subplot\n",
    "ax.plot(x, RL_a, 'r', label = 'River level') # Second series in subplot. 'r' for red\n",
    "ax.plot(x, GWL_a, 'b', label = 'GWL') # First series in subplot. 'b' for blue\n",
    "ax.legend(loc = 'upper right', fontsize ='small', ncol = 2)\n",
    "ax.set_ylabel('Water level (m LVD)')\n",
    "ax.set_xlabel('Time increment')\n",
    "ax.set_xlim(0, 100)\n",
    "\n",
    "ax = axs[1] # Second subplot\n",
    "ax.plot(lags, ccor)\n",
    "ax.set_ylabel('cross-correlation')\n",
    "ax.set_xlabel('lag of GWL relative to river level')\n",
    "ax.set_xlim(-100, 100)"
   ]
  },
  {
   "cell_type": "markdown",
   "metadata": {},
   "source": []
  },
  {
   "cell_type": "code",
   "execution_count": 14,
   "metadata": {},
   "outputs": [
    {
     "name": "stdout",
     "output_type": "stream",
     "text": [
      "max correlation is at lag -208\n"
     ]
    }
   ],
   "source": [
    "maxlag = lags[np.argmax(ccor)] # Maximum of ccor is the maximum correlation at certain lag time\n",
    "print(\"max correlation is at lag %d\" % maxlag)\n",
    "# negative lag means that the second series (GWL) lags the first (River level), which is what we'd expect."
   ]
  },
  {
   "cell_type": "code",
   "execution_count": 15,
   "metadata": {
    "scrolled": true
   },
   "outputs": [
    {
     "data": {
      "text/plain": [
       "0.6913969252043248"
      ]
     },
     "execution_count": 15,
     "metadata": {},
     "output_type": "execute_result"
    }
   ],
   "source": [
    "ccor.max()"
   ]
  },
  {
   "cell_type": "code",
   "execution_count": 16,
   "metadata": {},
   "outputs": [
    {
     "data": {
      "text/plain": [
       "-0.8934402920316773"
      ]
     },
     "execution_count": 16,
     "metadata": {},
     "output_type": "execute_result"
    }
   ],
   "source": [
    "ccor.min()"
   ]
  },
  {
   "cell_type": "code",
   "execution_count": 17,
   "metadata": {},
   "outputs": [
    {
     "name": "stdout",
     "output_type": "stream",
     "text": [
      "min correlation is at lag 3\n"
     ]
    }
   ],
   "source": [
    "minlag = lags[np.argmin(ccor)] # Maximum of ccor is the maximum correlation at certain lag time\n",
    "print(\"min correlation is at lag %d\" % minlag)"
   ]
  },
  {
   "cell_type": "code",
   "execution_count": 18,
   "metadata": {},
   "outputs": [
    {
     "name": "stdout",
     "output_type": "stream",
     "text": [
      "max correlation is at lag -208\n"
     ]
    }
   ],
   "source": [
    "maxlag = lags[np.argmax(ccor)] # Maximum of ccor is the maximum correlation at certain lag time\n",
    "print(\"max correlation is at lag %d\" % maxlag)"
   ]
  },
  {
   "cell_type": "code",
   "execution_count": null,
   "metadata": {},
   "outputs": [],
   "source": []
  }
 ],
 "metadata": {
  "kernelspec": {
   "display_name": "Python 3",
   "language": "python",
   "name": "python3"
  },
  "language_info": {
   "codemirror_mode": {
    "name": "ipython",
    "version": 3
   },
   "file_extension": ".py",
   "mimetype": "text/x-python",
   "name": "python",
   "nbconvert_exporter": "python",
   "pygments_lexer": "ipython3",
   "version": "3.7.3"
  }
 },
 "nbformat": 4,
 "nbformat_minor": 2
}
